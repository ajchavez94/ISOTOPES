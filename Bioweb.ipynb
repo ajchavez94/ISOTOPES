{
 "cells": [
  {
   "cell_type": "code",
   "execution_count": null,
   "metadata": {},
   "outputs": [],
   "source": []
  },
  {
   "cell_type": "markdown",
   "metadata": {},
   "source": [
    "# New Bioweb document with AltMax.\n",
    "The other document which I used initially was from the Bioweb data that got from Marijn. I think this was not completely actualized so I got new data from the Bioweb\n",
    "date 12.07.2024\n",
    "\n"
   ]
  },
  {
   "cell_type": "code",
   "execution_count": 1,
   "metadata": {},
   "outputs": [],
   "source": [
    "import pandas as pd\n",
    "import geopandas as gpd \n",
    "import rasterio\n",
    "from rasterio.plot import show"
   ]
  },
  {
   "cell_type": "code",
   "execution_count": 2,
   "metadata": {},
   "outputs": [
    {
     "name": "stdout",
     "output_type": "stream",
     "text": [
      "date and time: 21102024\n"
     ]
    }
   ],
   "source": [
    "from datetime import datetime\n",
    "now = datetime.now() # current date and time\n",
    "\n",
    "date_time = now.strftime(\"%d%m%Y\")\n",
    "print(\"date and time:\",date_time)"
   ]
  },
  {
   "cell_type": "code",
   "execution_count": 3,
   "metadata": {},
   "outputs": [],
   "source": [
    "def elevation_group(row):\n",
    "    \" Evaluates the elevation to create different categories.\"\n",
    "    elevation = row.get('altitudMax') #change name according the dataframe\n",
    "    #AltitudMax for the DataWeb. I suggest to calculate my own altitude with the coordinates when available.\n",
    "    \n",
    "    if elevation <= 500:\n",
    "       return \"000-500\"   \n",
    "    elif (elevation > 500) & (elevation <= 1001):\n",
    "      return \"501-1000\"   \n",
    "    elif (elevation <= 1500) &  (elevation > 1000):\n",
    "      return \"1001-1500\"\n",
    "    elif (elevation <= 2000) &  (elevation > 1500):\n",
    "      return \"1501-2000\"\n",
    "    elif (elevation <=2500) &  (elevation > 2000):\n",
    "      return \"2001-2500\"\n",
    "    elif (elevation <=3000) &  (elevation > 2500):\n",
    "      return \"2501-3000\"\n",
    "    elif (elevation <=3500) &  (elevation > 3000):\n",
    "      return \"3001-3500\"\n",
    "    elif elevation > 3500:\n",
    "      return \"3500 \""
   ]
  },
  {
   "cell_type": "code",
   "execution_count": 4,
   "metadata": {},
   "outputs": [
    {
     "name": "stderr",
     "output_type": "stream",
     "text": [
      "C:\\Users\\Andrea\\AppData\\Local\\Temp\\ipykernel_22012\\3384491273.py:12: SettingWithCopyWarning: \n",
      "A value is trying to be set on a copy of a slice from a DataFrame.\n",
      "Try using .loc[row_indexer,col_indexer] = value instead\n",
      "\n",
      "See the caveats in the documentation: https://pandas.pydata.org/pandas-docs/stable/user_guide/indexing.html#returning-a-view-versus-a-copy\n",
      "  new_df['year'] = pd.to_datetime(new_df[\"fechaInicioColeccion\"], errors='coerce')\n",
      "C:\\Users\\Andrea\\AppData\\Local\\Temp\\ipykernel_22012\\3384491273.py:13: SettingWithCopyWarning: \n",
      "A value is trying to be set on a copy of a slice from a DataFrame.\n",
      "Try using .loc[row_indexer,col_indexer] = value instead\n",
      "\n",
      "See the caveats in the documentation: https://pandas.pydata.org/pandas-docs/stable/user_guide/indexing.html#returning-a-view-versus-a-copy\n",
      "  new_df[\"year\"] = new_df[\"year\"].dt.year.round() #add year\n",
      "C:\\Users\\Andrea\\AppData\\Local\\Temp\\ipykernel_22012\\3384491273.py:14: SettingWithCopyWarning: \n",
      "A value is trying to be set on a copy of a slice from a DataFrame.\n",
      "Try using .loc[row_indexer,col_indexer] = value instead\n",
      "\n",
      "See the caveats in the documentation: https://pandas.pydata.org/pandas-docs/stable/user_guide/indexing.html#returning-a-view-versus-a-copy\n",
      "  new_df[\"decade\"]=(new_df.year//10)*10\n",
      "C:\\Users\\Andrea\\AppData\\Local\\Temp\\ipykernel_22012\\3384491273.py:15: SettingWithCopyWarning: \n",
      "A value is trying to be set on a copy of a slice from a DataFrame.\n",
      "Try using .loc[row_indexer,col_indexer] = value instead\n",
      "\n",
      "See the caveats in the documentation: https://pandas.pydata.org/pandas-docs/stable/user_guide/indexing.html#returning-a-view-versus-a-copy\n",
      "  new_df['elev_category'] = new_df.apply(lambda row : elevation_group(row), axis=1) #groups into categories\n"
     ]
    }
   ],
   "source": [
    "df = pd.read_excel(r\"DataWeb\\GuareaDataWeb_11072024.xlsx\") #Guarea \n",
    "df2= pd.read_excel(r\"DataWeb\\McoriaceaDataWeb_12072024.xlsx\") #Myrsine\n",
    "df3=pd.read_excel(r\"DataWeb\\VstipularisDataWeb_12072024.xlsx\") #vallea\n",
    "df4=pd.read_excel(r\"DataWeb\\AacuminataDataWeb_12072024.xlsx\") #alnus\n",
    "\n",
    "df5=pd.read_excel(r\"DataWeb\\ManualDataWeb_21102024.xlsx\") #added manually.\n",
    "all_dataweb = pd.concat([df,df2,df3,df4,df5])\n",
    "\n",
    "def clean_bioweb(new_df):\n",
    "    \"\"\"Add column year and decade from bioweb register\"\"\"\n",
    "    new_df = new_df[[\"numeroMuseo\",\"altitudMax\",\"altitudMin\",\"fechaInicioColeccion\",\"genero\",\"especie\",\"latitude\",\"longitude\"]] #leave only this columns for now\n",
    "    new_df['year'] = pd.to_datetime(new_df[\"fechaInicioColeccion\"], errors='coerce')\n",
    "    new_df[\"year\"] = new_df[\"year\"].dt.year.round() #add year \n",
    "    new_df[\"decade\"]=(new_df.year//10)*10\n",
    "    new_df['elev_category'] = new_df.apply(lambda row : elevation_group(row), axis=1) #groups into categories\n",
    "    new_df_no_duplicates = new_df.drop_duplicates(subset=[\"numeroMuseo\"],keep=\"last\") #keep only second value\n",
    "    return new_df_no_duplicates\n",
    "\n",
    "all = clean_bioweb(all_dataweb)\n",
    "all\n",
    "all.to_excel(\"bioweb_\"+date_time+\".xlsx\") #limitations not all the elevations in the bioweb so double check later"
   ]
  }
 ],
 "metadata": {
  "kernelspec": {
   "display_name": "herb_env",
   "language": "python",
   "name": "python3"
  },
  "language_info": {
   "codemirror_mode": {
    "name": "ipython",
    "version": 3
   },
   "file_extension": ".py",
   "mimetype": "text/x-python",
   "name": "python",
   "nbconvert_exporter": "python",
   "pygments_lexer": "ipython3",
   "version": "3.9.18"
  }
 },
 "nbformat": 4,
 "nbformat_minor": 2
}
